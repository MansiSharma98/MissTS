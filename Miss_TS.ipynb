{
  "nbformat": 4,
  "nbformat_minor": 0,
  "metadata": {
    "colab": {
      "name": "Miss TS.ipynb",
      "provenance": [],
      "collapsed_sections": [],
      "authorship_tag": "ABX9TyNbPn8NhSYmwmvGIJpgTi9N",
      "include_colab_link": true
    },
    "kernelspec": {
      "name": "python3",
      "display_name": "Python 3"
    },
    "language_info": {
      "name": "python"
    }
  },
  "cells": [
    {
      "cell_type": "markdown",
      "metadata": {
        "id": "view-in-github",
        "colab_type": "text"
      },
      "source": [
        "<a href=\"https://colab.research.google.com/github/MansiSharma98/MissTS/blob/main/Miss_TS.ipynb\" target=\"_parent\"><img src=\"https://colab.research.google.com/assets/colab-badge.svg\" alt=\"Open In Colab\"/></a>"
      ]
    },
    {
      "cell_type": "markdown",
      "source": [
        "# Popularity according to Spotify for TS Songs "
      ],
      "metadata": {
        "id": "U5ARZGz5ipil"
      }
    },
    {
      "cell_type": "markdown",
      "source": [
        "\"All Too Well\" is a song by American singer-songwriter Taylor Swift, taken from her fourth studio album, Red, which was released on October 22, 2012, by Big Machine Records. Swift wrote \"All Too Well\" as the first song for Red, while embarking on her Speak Now World Tour."
      ],
      "metadata": {
        "id": "I1ERMXDri9sX"
      }
    },
    {
      "cell_type": "markdown",
      "source": [
        "Titled after Swift's 2012 song \"All Too Well\", the song's 10-minute version was released to YouTube on November 12, 2021, alongside Swift's second re-recorded album, Red (Taylor's Version)."
      ],
      "metadata": {
        "id": "me0RkvM5jL7V"
      }
    },
    {
      "cell_type": "code",
      "execution_count": 1,
      "metadata": {
        "colab": {
          "base_uri": "https://localhost:8080/"
        },
        "id": "Y38wcGZBvppf",
        "outputId": "f5af4678-9b9c-42e5-ea27-78ddaa082273"
      },
      "outputs": [
        {
          "output_type": "stream",
          "name": "stdout",
          "text": [
            "Collecting spotipy\n",
            "  Downloading spotipy-2.19.0-py3-none-any.whl (27 kB)\n",
            "Requirement already satisfied: six>=1.15.0 in /usr/local/lib/python3.7/dist-packages (from spotipy) (1.15.0)\n",
            "Collecting urllib3>=1.26.0\n",
            "  Downloading urllib3-1.26.8-py2.py3-none-any.whl (138 kB)\n",
            "\u001b[K     |████████████████████████████████| 138 kB 11.5 MB/s \n",
            "\u001b[?25hCollecting requests>=2.25.0\n",
            "  Downloading requests-2.27.1-py2.py3-none-any.whl (63 kB)\n",
            "\u001b[K     |████████████████████████████████| 63 kB 1.4 MB/s \n",
            "\u001b[?25hRequirement already satisfied: certifi>=2017.4.17 in /usr/local/lib/python3.7/dist-packages (from requests>=2.25.0->spotipy) (2021.10.8)\n",
            "Requirement already satisfied: idna<4,>=2.5 in /usr/local/lib/python3.7/dist-packages (from requests>=2.25.0->spotipy) (2.10)\n",
            "Requirement already satisfied: charset-normalizer~=2.0.0 in /usr/local/lib/python3.7/dist-packages (from requests>=2.25.0->spotipy) (2.0.11)\n",
            "Installing collected packages: urllib3, requests, spotipy\n",
            "  Attempting uninstall: urllib3\n",
            "    Found existing installation: urllib3 1.24.3\n",
            "    Uninstalling urllib3-1.24.3:\n",
            "      Successfully uninstalled urllib3-1.24.3\n",
            "  Attempting uninstall: requests\n",
            "    Found existing installation: requests 2.23.0\n",
            "    Uninstalling requests-2.23.0:\n",
            "      Successfully uninstalled requests-2.23.0\n",
            "\u001b[31mERROR: pip's dependency resolver does not currently take into account all the packages that are installed. This behaviour is the source of the following dependency conflicts.\n",
            "google-colab 1.0.0 requires requests~=2.23.0, but you have requests 2.27.1 which is incompatible.\n",
            "datascience 0.10.6 requires folium==0.2.1, but you have folium 0.8.3 which is incompatible.\u001b[0m\n",
            "Successfully installed requests-2.27.1 spotipy-2.19.0 urllib3-1.26.8\n"
          ]
        }
      ],
      "source": [
        "!pip install spotipy"
      ]
    },
    {
      "cell_type": "code",
      "source": [
        "import spotipy\n",
        "from spotipy.oauth2 import SpotifyClientCredentials\n",
        "import matplotlib.pyplot as plt"
      ],
      "metadata": {
        "id": "LtrFqQdbwx7O"
      },
      "execution_count": 2,
      "outputs": []
    },
    {
      "cell_type": "code",
      "source": [
        "#Authentication - without user\n",
        "cid='xxx'\n",
        "secret='xxx'\n",
        "client_credentials_manager = SpotifyClientCredentials(client_id=cid, client_secret=secret)\n",
        "sp = spotipy.Spotify(client_credentials_manager = client_credentials_manager)"
      ],
      "metadata": {
        "id": "SrjvZxmLw307"
      },
      "execution_count": 3,
      "outputs": []
    },
    {
      "cell_type": "code",
      "source": [
        "#creating a list of spotify URLs for the songs\n",
        "song_link = 'https://open.spotify.com/track/6GNRkaWUB0Lwc19SdkTgx8?si=57c515874db84196'\n",
        "song_ts_link = 'https://open.spotify.com/track/1IBhYEvvi02tDVByxIiTh4?si=e77e152d7f054093'\n",
        "song_ts_10min = 'https://open.spotify.com/track/5enxwA8aAbwZbf5qCHORXi?si=6bc3beb08cd8410d'\n",
        "link_list = []\n",
        "link_list.append(song_link)\n",
        "link_list.append(song_ts_link)\n",
        "link_list.append(song_ts_10min)"
      ],
      "metadata": {
        "id": "u2Ag-DyJxH59"
      },
      "execution_count": 31,
      "outputs": []
    },
    {
      "cell_type": "code",
      "source": [
        "#function to provide URI: the resource identifier used by spotify\n",
        "#read docs here: https://developer.spotify.com/documentation/web-api/\n",
        "def get_uri(song_link):\n",
        "  return song_link.split(\"/\")[-1].split(\"?\")[0]"
      ],
      "metadata": {
        "id": "R9NsMxWpxL1E"
      },
      "execution_count": 8,
      "outputs": []
    },
    {
      "cell_type": "code",
      "source": [
        "#getting name of the track\n",
        "def get_name(uri):\n",
        "  return sp.track(uri)['name']"
      ],
      "metadata": {
        "id": "lhayGUCSzm8L"
      },
      "execution_count": 22,
      "outputs": []
    },
    {
      "cell_type": "markdown",
      "source": [
        "The Spotify Popularity Index is a 0-to-100 score that ranks how popular a track is relative to other tracks on Spotify."
      ],
      "metadata": {
        "id": "se_izoOM-hEk"
      }
    },
    {
      "cell_type": "code",
      "source": [
        "#getting popularity of the song\n",
        "def get_popularity(uri):\n",
        "  return sp.track(uri)['popularity']"
      ],
      "metadata": {
        "id": "Iru11grpzyOC"
      },
      "execution_count": 23,
      "outputs": []
    },
    {
      "cell_type": "code",
      "source": [
        "#function to plot the popularity(according to spotify)\n",
        "def plot_spotify_popularity(link_list):\n",
        "  names = []\n",
        "  popularity = []\n",
        "  for i in link_list:\n",
        "    uri = get_uri(i)\n",
        "    names.append(get_name(uri))\n",
        "    popularity.append(get_popularity(uri))\n",
        "  fig = plt.figure(figsize = (20,5))\n",
        "  #  Bar plot\n",
        "  plt.bar(names, popularity, color ='green', width = 0.5)\n",
        "  plt.xlabel(\"Song\")\n",
        "  plt.ylabel(\"Popularity according to Spotify\")\n",
        "  plt.title(\"Spotify Song Popularity\")\n",
        "  plt.show()"
      ],
      "metadata": {
        "id": "ibiun0vV7wai"
      },
      "execution_count": 32,
      "outputs": []
    },
    {
      "cell_type": "code",
      "source": [
        "plot_spotify_popularity(link_list)"
      ],
      "metadata": {
        "colab": {
          "base_uri": "https://localhost:8080/",
          "height": 350
        },
        "id": "P_HIOosl9Wih",
        "outputId": "2b425a2d-22c0-4fb3-84ea-08ac552ea3a9"
      },
      "execution_count": 33,
      "outputs": [
        {
          "output_type": "display_data",
          "data": {
            "image/png": "[encoded data removed]",
            "text/plain": [
              "<Figure size 1440x360 with 1 Axes>"
            ]
          },
          "metadata": {
            "needs_background": "light"
          }
        }
      ]
    },
    {
      "cell_type": "markdown",
      "source": [
        "As we can see ***All Too Well 10 minute version (released in 2021)*** has the highest popularity despite coming out 9 years after ***All Too Well (released in 2012)***"
      ],
      "metadata": {
        "id": "dPmWu7teRyrF"
      }
    },
    {
      "cell_type": "markdown",
      "source": [
        "\n",
        "\n",
        "---\n",
        "\n"
      ],
      "metadata": {
        "id": "z3mPQ8qWSfvy"
      }
    }
  ]
}